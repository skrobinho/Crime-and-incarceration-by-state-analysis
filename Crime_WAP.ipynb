{
 "cells": [
  {
   "cell_type": "code",
   "execution_count": null,
   "metadata": {},
   "outputs": [],
   "source": [
    "import pandas as pd"
   ]
  },
  {
   "cell_type": "code",
   "execution_count": null,
   "metadata": {},
   "outputs": [],
   "source": [
    "df = pd.read_csv('crime_and_incarceration_by_state.csv') \n",
    "df = df[-50:].reset_index(drop=True).drop(columns=['includes_jails', 'year', 'crime_reporting_change', 'crimes_estimated', 'rape_legacy'])\n",
    "\n",
    "\n",
    "cols = df.columns.tolist()\n",
    "cols = cols[0:1] + cols[2:3] + cols[1:2] + cols[3:]\n",
    "\n",
    "df = df[cols]\n",
    "df.iloc[:,2:] = df.iloc[:,2:].div(df.state_population, axis=0)\n",
    "df.columns = df.columns.map(lambda x : x + '_per_capita' if x != 'jurisdiction' and x != 'state_population' else x)"
   ]
  },
  {
   "cell_type": "code",
   "execution_count": null,
   "metadata": {},
   "outputs": [],
   "source": [
    "df1 = df.drop(columns=['state_population'])"
   ]
  },
  {
   "cell_type": "code",
   "execution_count": null,
   "metadata": {},
   "outputs": [],
   "source": [
    "df1.to_csv('crime_and_incarceration_by_state_2016.csv', index=False)"
   ]
  }
 ],
 "metadata": {
  "kernelspec": {
   "display_name": "Python 3",
   "language": "python",
   "name": "python3"
  },
  "language_info": {
   "codemirror_mode": {
    "name": "ipython",
    "version": 3
   },
   "file_extension": ".py",
   "mimetype": "text/x-python",
   "name": "python",
   "nbconvert_exporter": "python",
   "pygments_lexer": "ipython3",
   "version": "3.7.1"
  }
 },
 "nbformat": 4,
 "nbformat_minor": 2
}
